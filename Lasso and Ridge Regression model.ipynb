{
 "cells": [
  {
   "cell_type": "code",
   "execution_count": null,
   "id": "72c96a00",
   "metadata": {},
   "outputs": [],
   "source": [
    "from sklearn.datasets import fetch_california_housing\n",
    "import pandas as pd"
   ]
  },
  {
   "cell_type": "code",
   "execution_count": null,
   "id": "4d325487",
   "metadata": {},
   "outputs": [],
   "source": [
    "california_housing  = fetch_california_housing(as_frame=True)\n",
    "california_housing"
   ]
  },
  {
   "cell_type": "code",
   "execution_count": null,
   "id": "57c252c0",
   "metadata": {},
   "outputs": [],
   "source": [
    "X = california_housing\n",
    "X"
   ]
  },
  {
   "cell_type": "code",
   "execution_count": null,
   "id": "c1ebd673",
   "metadata": {},
   "outputs": [],
   "source": [
    "y = california_housing"
   ]
  },
  {
   "cell_type": "code",
   "execution_count": null,
   "id": "0ddb6fc7",
   "metadata": {},
   "outputs": [],
   "source": [
    "california_housing.features_names\n"
   ]
  },
  {
   "cell_type": "code",
   "execution_count": null,
   "id": "f8e7003d",
   "metadata": {},
   "outputs": [],
   "source": [
    "print(california_housing.DECR)"
   ]
  },
  {
   "cell_type": "code",
   "execution_count": null,
   "id": "227da922",
   "metadata": {},
   "outputs": [],
   "source": [
    "from sklearn.model_selection import train_test_split"
   ]
  },
  {
   "cell_type": "code",
   "execution_count": null,
   "id": "a62eef8f",
   "metadata": {},
   "outputs": [],
   "source": [
    "X_train,X_test,y_train,y_test = train_test_split(X,y,test_size=0.2,random_state=0)"
   ]
  },
  {
   "cell_type": "markdown",
   "id": "4afe5849",
   "metadata": {},
   "source": [
    "# Additional Step: Scaling the data:Standard scalar"
   ]
  },
  {
   "cell_type": "code",
   "execution_count": null,
   "id": "d3b533f5",
   "metadata": {},
   "outputs": [],
   "source": [
    "from sklearn.preprocessing import StandardScaler\n",
    "scaler = StandardScalar()"
   ]
  },
  {
   "cell_type": "code",
   "execution_count": null,
   "id": "6b27b463",
   "metadata": {},
   "outputs": [],
   "source": [
    "X_train = scaler.fit_transform(X_train)\n",
    "X_test = scaler.fit_tranform(X_test)"
   ]
  },
  {
   "cell_type": "markdown",
   "id": "98e5d372",
   "metadata": {},
   "source": [
    "# Ridge Regression"
   ]
  },
  {
   "cell_type": "code",
   "execution_count": null,
   "id": "974e5ac6",
   "metadata": {},
   "outputs": [],
   "source": [
    "from sklear.linear_model import Ridge\n",
    "ridge = Ridge()"
   ]
  },
  {
   "cell_type": "code",
   "execution_count": null,
   "id": "417d647a",
   "metadata": {},
   "outputs": [],
   "source": [
    "ridge.fit(X_train,y_train)"
   ]
  },
  {
   "cell_type": "code",
   "execution_count": null,
   "id": "5a9254ba",
   "metadata": {},
   "outputs": [],
   "source": [
    "from sklearn.metrices import mean_absoulte_error, mean_squared_error, r2_score"
   ]
  },
  {
   "cell_type": "code",
   "execution_count": null,
   "id": "1e799bb3",
   "metadata": {},
   "outputs": [],
   "source": [
    "y_train_pred = ridge.predict(X_train)"
   ]
  },
  {
   "cell_type": "code",
   "execution_count": null,
   "id": "4f977353",
   "metadata": {},
   "outputs": [],
   "source": [
    "pd.DataFrame({'original':y_train,'predicted':y_train_pred})"
   ]
  },
  {
   "cell_type": "code",
   "execution_count": null,
   "id": "4ef9038d",
   "metadata": {},
   "outputs": [],
   "source": [
    "mean_absolute_error(y_train,y_train_pred)"
   ]
  },
  {
   "cell_type": "code",
   "execution_count": null,
   "id": "d4a7e1c8",
   "metadata": {},
   "outputs": [],
   "source": [
    "mean_squared_error(y_train,y_train_pred)"
   ]
  },
  {
   "cell_type": "code",
   "execution_count": null,
   "id": "ecca4c7a",
   "metadata": {},
   "outputs": [],
   "source": [
    "r2_score(y_train,y_train_pred)"
   ]
  },
  {
   "cell_type": "code",
   "execution_count": null,
   "id": "a8846489",
   "metadata": {},
   "outputs": [],
   "source": [
    "param_grid = {'alpha':[.001,0.001,0.01,0.1,1,10,100,1000]}"
   ]
  },
  {
   "cell_type": "code",
   "execution_count": null,
   "id": "33e9ca8d",
   "metadata": {},
   "outputs": [],
   "source": [
    "from sklearn.model_selection import GridSearchCV"
   ]
  },
  {
   "cell_type": "code",
   "execution_count": null,
   "id": "91330512",
   "metadata": {},
   "outputs": [],
   "source": [
    "ridge_cv = GridSearchCV(ridge,param_grid,cv=5,n_jobs=1)"
   ]
  },
  {
   "cell_type": "code",
   "execution_count": null,
   "id": "c4198d19",
   "metadata": {},
   "outputs": [],
   "source": [
    "ridge_cv.fit(X_train,y_train)"
   ]
  },
  {
   "cell_type": "code",
   "execution_count": null,
   "id": "7cd6a982",
   "metadata": {},
   "outputs": [],
   "source": [
    "y_pred_train = ridge_cv.predict(X_train)"
   ]
  },
  {
   "cell_type": "code",
   "execution_count": null,
   "id": "543362a1",
   "metadata": {},
   "outputs": [],
   "source": [
    "mean_absolute_error(y_train,y_train_pred)"
   ]
  },
  {
   "cell_type": "code",
   "execution_count": null,
   "id": "a0401508",
   "metadata": {},
   "outputs": [],
   "source": [
    "mean_squared_error(y_train,y_train_pred)"
   ]
  },
  {
   "cell_type": "code",
   "execution_count": null,
   "id": "f0b0785e",
   "metadata": {},
   "outputs": [],
   "source": [
    "r2_score(y_train,y_train_grid)"
   ]
  },
  {
   "cell_type": "code",
   "execution_count": null,
   "id": "24cbfcc2",
   "metadata": {},
   "outputs": [],
   "source": [
    "ridge_cv.best_estimator_"
   ]
  },
  {
   "cell_type": "code",
   "execution_count": null,
   "id": "714454e2",
   "metadata": {},
   "outputs": [],
   "source": [
    "good_ridge = Ridge(alpha=10)"
   ]
  },
  {
   "cell_type": "code",
   "execution_count": null,
   "id": "9c3a5aa4",
   "metadata": {},
   "outputs": [],
   "source": [
    "good_ridge.fit(X_train,y_train)"
   ]
  },
  {
   "cell_type": "code",
   "execution_count": null,
   "id": "f5bee71a",
   "metadata": {},
   "outputs": [],
   "source": [
    "y_test_pred = good_ridge.predict(X_test)"
   ]
  },
  {
   "cell_type": "code",
   "execution_count": null,
   "id": "cba21e1b",
   "metadata": {},
   "outputs": [],
   "source": [
    "mean_absoulte_error(y_test,y_pred_test)"
   ]
  },
  {
   "cell_type": "code",
   "execution_count": null,
   "id": "a9aa6cf8",
   "metadata": {},
   "outputs": [],
   "source": [
    "mean_squared_error(y_test,y_pred_test)"
   ]
  },
  {
   "cell_type": "code",
   "execution_count": null,
   "id": "6c8004a7",
   "metadata": {},
   "outputs": [],
   "source": [
    "r2_score(y_test,y_test_pred)"
   ]
  },
  {
   "cell_type": "markdown",
   "id": "cafe3708",
   "metadata": {},
   "source": [
    "# Lasso Regressoin"
   ]
  },
  {
   "cell_type": "code",
   "execution_count": null,
   "id": "bf82d8e2",
   "metadata": {},
   "outputs": [],
   "source": [
    "from sklearn.linear_model import Lasso\n",
    "lasso = Lasso()"
   ]
  },
  {
   "cell_type": "code",
   "execution_count": null,
   "id": "a46d3408",
   "metadata": {},
   "outputs": [],
   "source": [
    "lasso.fit(X_train,y_train)"
   ]
  },
  {
   "cell_type": "code",
   "execution_count": null,
   "id": "1e0b07d3",
   "metadata": {},
   "outputs": [],
   "source": [
    "from sklearn.metrices import mean_absoulte_error, mean_squared_error, r2_score"
   ]
  },
  {
   "cell_type": "code",
   "execution_count": null,
   "id": "bc351aed",
   "metadata": {},
   "outputs": [],
   "source": [
    "y_train_pred =lasso.predict(X_train)"
   ]
  },
  {
   "cell_type": "code",
   "execution_count": null,
   "id": "edd69269",
   "metadata": {},
   "outputs": [],
   "source": [
    "pd.DataFrame({'original' y_train,'predicted':y_train_pred})"
   ]
  },
  {
   "cell_type": "code",
   "execution_count": null,
   "id": "003dfecc",
   "metadata": {},
   "outputs": [],
   "source": [
    "mean_absoulte_error(y_train,y_train_pred)"
   ]
  },
  {
   "cell_type": "code",
   "execution_count": null,
   "id": "ee70256e",
   "metadata": {},
   "outputs": [],
   "source": [
    "mean_squared_error(y_train,y_train_pred)"
   ]
  },
  {
   "cell_type": "code",
   "execution_count": null,
   "id": "f5c98616",
   "metadata": {},
   "outputs": [],
   "source": [
    "r2_score(y_train,y_train_pred)"
   ]
  },
  {
   "cell_type": "code",
   "execution_count": null,
   "id": "7bf009e7",
   "metadata": {},
   "outputs": [],
   "source": [
    "y_test_pred = lasso.predict(X_test)"
   ]
  },
  {
   "cell_type": "code",
   "execution_count": null,
   "id": "6627eb53",
   "metadata": {},
   "outputs": [],
   "source": [
    "pd.DataFrame({'original':y_test,'predicted':y_test_pred})"
   ]
  },
  {
   "cell_type": "code",
   "execution_count": null,
   "id": "f187c1f9",
   "metadata": {},
   "outputs": [],
   "source": [
    "mean_absolute_error(y_test,y_test_pred)"
   ]
  },
  {
   "cell_type": "code",
   "execution_count": null,
   "id": "b0dd9103",
   "metadata": {},
   "outputs": [],
   "source": [
    "mean_squared_error(y_test,y_test_pred)"
   ]
  },
  {
   "cell_type": "code",
   "execution_count": null,
   "id": "01994151",
   "metadata": {},
   "outputs": [],
   "source": [
    "r2.score(y_test,y_test_pred)"
   ]
  },
  {
   "cell_type": "markdown",
   "id": "689389b8",
   "metadata": {},
   "source": [
    "# Applying GirdSearch and Cross Validation for best alpha values"
   ]
  },
  {
   "cell_type": "code",
   "execution_count": null,
   "id": "637cf53f",
   "metadata": {},
   "outputs": [],
   "source": [
    "param_grid = {'alpha':[.0001,0.01,0.1,1,10,100,1000]}"
   ]
  },
  {
   "cell_type": "code",
   "execution_count": null,
   "id": "cc7442bf",
   "metadata": {},
   "outputs": [],
   "source": [
    "from sklearn.model_selection import GridSearchTV"
   ]
  },
  {
   "cell_type": "code",
   "execution_count": null,
   "id": "a31c46c9",
   "metadata": {},
   "outputs": [],
   "source": [
    "lasso_cv = GridSearch(lasso,param_grid,cv=3,n_jobs=1)"
   ]
  },
  {
   "cell_type": "code",
   "execution_count": null,
   "id": "1dadf900",
   "metadata": {},
   "outputs": [],
   "source": [
    "lasso_cv.fit(X_train,y_train)"
   ]
  },
  {
   "cell_type": "code",
   "execution_count": null,
   "id": "362bf2f4",
   "metadata": {},
   "outputs": [],
   "source": [
    "y_pred_test = lasso_cv.predict(X_test)"
   ]
  },
  {
   "cell_type": "code",
   "execution_count": null,
   "id": "425b20cb",
   "metadata": {},
   "outputs": [],
   "source": [
    "mean_absolute_error(y_test,y_pred_test)"
   ]
  },
  {
   "cell_type": "code",
   "execution_count": null,
   "id": "a9ea4281",
   "metadata": {},
   "outputs": [],
   "source": [
    "mean_squared_error(y_test,y_pred_test)"
   ]
  },
  {
   "cell_type": "code",
   "execution_count": null,
   "id": "c5d3d30c",
   "metadata": {},
   "outputs": [],
   "source": [
    "r2_score(y_test,y_pred_test)"
   ]
  },
  {
   "cell_type": "code",
   "execution_count": null,
   "id": "ed1eba23",
   "metadata": {},
   "outputs": [],
   "source": [
    "lasso_cv.best_estimator_"
   ]
  },
  {
   "cell_type": "code",
   "execution_count": null,
   "id": "4d05adb3",
   "metadata": {},
   "outputs": [],
   "source": [
    "good_lasso = Lasso(alpha=0.001)"
   ]
  },
  {
   "cell_type": "code",
   "execution_count": null,
   "id": "64f82361",
   "metadata": {},
   "outputs": [],
   "source": [
    "good_lasso.fit(X_train,y_train)"
   ]
  },
  {
   "cell_type": "code",
   "execution_count": null,
   "id": "7241143f",
   "metadata": {},
   "outputs": [],
   "source": [
    "good_lasso.score(X_test,y_test)"
   ]
  },
  {
   "cell_type": "code",
   "execution_count": null,
   "id": "33d04fe0",
   "metadata": {},
   "outputs": [],
   "source": []
  }
 ],
 "metadata": {
  "kernelspec": {
   "display_name": "Python 3 (ipykernel)",
   "language": "python",
   "name": "python3"
  },
  "language_info": {
   "codemirror_mode": {
    "name": "ipython",
    "version": 3
   },
   "file_extension": ".py",
   "mimetype": "text/x-python",
   "name": "python",
   "nbconvert_exporter": "python",
   "pygments_lexer": "ipython3",
   "version": "3.11.5"
  }
 },
 "nbformat": 4,
 "nbformat_minor": 5
}
